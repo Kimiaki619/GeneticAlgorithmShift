{
 "cells": [
  {
   "cell_type": "code",
   "execution_count": 1,
   "metadata": {},
   "outputs": [],
   "source": [
    "import pandas as pd\n",
    "import numpy as np\n"
   ]
  },
  {
   "cell_type": "code",
   "execution_count": 2,
   "metadata": {},
   "outputs": [
    {
     "name": "stderr",
     "output_type": "stream",
     "text": [
      "/opt/anaconda3/envs/employee/lib/python3.7/site-packages/ipykernel_launcher.py:8: UserWarning: Pandas doesn't allow columns to be created via a new attribute name - see https://pandas.pydata.org/pandas-docs/stable/indexing.html#attribute-access\n",
      "  \n"
     ]
    }
   ],
   "source": [
    "#一回目\n",
    "df = pd.read_excel(\"shift.xlsm\")\n",
    "df = df.iloc[4:14,1:33]\n",
    "df = df.fillna(0)\n",
    "df = df.replace(\"○\",2)\n",
    "\n",
    "holiday = df.iloc[:,31:32].reset_index(drop=True)\n",
    "holiday.colums = [\"休日数\"]\n",
    "\n",
    "kiso = df.iloc[:,0:31].reset_index(drop=True)\n",
    "kiso.columns = [i+1 for i in range(len(kiso.columns))]"
   ]
  },
  {
   "cell_type": "code",
   "execution_count": null,
   "metadata": {},
   "outputs": [],
   "source": [
    "# coding: utf-8\n",
    "# 自分の得意な言語で\n",
    "# Let's チャレンジ！！\n",
    "\n",
    "num = int(input())\n",
    "word = input()\n",
    "test = []\n",
    "A = ord(\"A\")\n",
    "Z = ord(\"Z\")\n",
    "\n",
    "def word_henkan(word_n):\n",
    "    return chr(word_n)\n",
    "\n",
    "for n in range(len(word)):\n",
    "    if n % 2 == 1:\n",
    "        #奇数\n",
    "        word_n = ord(word[n]) + num\n",
    "    else:\n",
    "        word_n = ord(word[n]) - num\n",
    "    \n",
    "    if word_n < A:\n",
    "        word_n = Z - (A + word_n)\n",
    "    elif word_n < Z:\n",
    "        word_n =  A + (word_n - Z)\n",
    "    test.append(word_henkan(word_n))\n",
    "    \n",
    "print(test)\n",
    "    \n",
    "    \n",
    "#A65\n",
    "#Z90"
   ]
  }
 ],
 "metadata": {
  "kernelspec": {
   "display_name": "Python 3",
   "language": "python",
   "name": "python3"
  },
  "language_info": {
   "codemirror_mode": {
    "name": "ipython",
    "version": 3
   },
   "file_extension": ".py",
   "mimetype": "text/x-python",
   "name": "python",
   "nbconvert_exporter": "python",
   "pygments_lexer": "ipython3",
   "version": "3.7.9"
  }
 },
 "nbformat": 4,
 "nbformat_minor": 4
}
